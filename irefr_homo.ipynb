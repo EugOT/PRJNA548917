version https://git-lfs.github.com/spec/v1
oid sha256:b599c7a0adca76928d1cd3418a1e40cc7841dfef6050746c3011ba86e9df3869
size 48038
